{
 "cells": [
  {
   "cell_type": "code",
   "execution_count": 47,
   "metadata": {},
   "outputs": [],
   "source": [
    "import pandas as pd\n",
    "from IPython.display import clear_output\n",
    "\n",
    "cols = []\n",
    "with open('cols.txt', 'r') as f:\n",
    "    cols = f.read()"
   ]
  },
  {
   "cell_type": "code",
   "execution_count": 48,
   "metadata": {},
   "outputs": [],
   "source": [
    "cols = cols.split('\\n')"
   ]
  },
  {
   "cell_type": "code",
   "execution_count": 49,
   "metadata": {},
   "outputs": [
    {
     "data": {
      "text/plain": [
       "['play_id',\n",
       " 'game_id',\n",
       " 'home_team',\n",
       " 'away_team',\n",
       " 'posteam',\n",
       " 'defteam',\n",
       " 'yardline_100',\n",
       " 'game_date',\n",
       " 'game_seconds_remaining',\n",
       " 'drive',\n",
       " 'sp',\n",
       " 'down',\n",
       " 'goal_to_go',\n",
       " 'ydstogo',\n",
       " 'ydsnet',\n",
       " 'desc',\n",
       " 'play_type',\n",
       " 'yards_gained',\n",
       " 'field_goal_result',\n",
       " 'away_timeouts_remaining',\n",
       " 'td_team',\n",
       " 'total_home_score',\n",
       " 'total_away_score',\n",
       " 'punt_blocked',\n",
       " 'third_down_converted',\n",
       " 'third_down_failed',\n",
       " 'fourth_down_converted',\n",
       " 'interception',\n",
       " 'fumble_lost',\n",
       " 'touchdown',\n",
       " 'field_goal_attempt',\n",
       " 'kickoff_attempt',\n",
       " 'punt_attempt',\n",
       " 'fumble',\n",
       " 'return_team',\n",
       " 'home_timeouts_remaining']"
      ]
     },
     "execution_count": 49,
     "metadata": {},
     "output_type": "execute_result"
    }
   ],
   "source": [
    "cols"
   ]
  },
  {
   "cell_type": "code",
   "execution_count": 50,
   "metadata": {},
   "outputs": [],
   "source": [
    "plays = pd.read_csv('play_by_play/NFL Play by Play 2009-2018 (v5).csv', nrows = 3000, usecols = cols)\n",
    "hist = pd.read_csv('historical_results/spreadspoke_scores.csv')"
   ]
  },
  {
   "cell_type": "code",
   "execution_count": 52,
   "metadata": {},
   "outputs": [
    {
     "name": "stdout",
     "output_type": "stream",
     "text": [
      "<class 'pandas.core.frame.DataFrame'>\n",
      "RangeIndex: 3000 entries, 0 to 2999\n",
      "Data columns (total 36 columns):\n",
      "play_id                    3000 non-null int64\n",
      "game_id                    3000 non-null int64\n",
      "home_team                  3000 non-null object\n",
      "away_team                  3000 non-null object\n",
      "posteam                    2899 non-null object\n",
      "defteam                    2902 non-null object\n",
      "yardline_100               2899 non-null float64\n",
      "game_date                  3000 non-null object\n",
      "game_seconds_remaining     2998 non-null float64\n",
      "drive                      3000 non-null int64\n",
      "sp                         3000 non-null int64\n",
      "down                       2546 non-null float64\n",
      "goal_to_go                 2902 non-null float64\n",
      "ydstogo                    3000 non-null int64\n",
      "ydsnet                     3000 non-null int64\n",
      "desc                       3000 non-null object\n",
      "play_type                  2902 non-null object\n",
      "yards_gained               3000 non-null int64\n",
      "field_goal_result          59 non-null object\n",
      "home_timeouts_remaining    3000 non-null int64\n",
      "away_timeouts_remaining    3000 non-null int64\n",
      "td_team                    83 non-null object\n",
      "total_home_score           3000 non-null int64\n",
      "total_away_score           3000 non-null int64\n",
      "punt_blocked               2902 non-null float64\n",
      "third_down_converted       2902 non-null float64\n",
      "third_down_failed          2902 non-null float64\n",
      "fourth_down_converted      2902 non-null float64\n",
      "interception               2902 non-null float64\n",
      "fumble_lost                2902 non-null float64\n",
      "touchdown                  2902 non-null float64\n",
      "field_goal_attempt         2902 non-null float64\n",
      "kickoff_attempt            2902 non-null float64\n",
      "punt_attempt               2902 non-null float64\n",
      "fumble                     2902 non-null float64\n",
      "return_team                245 non-null object\n",
      "dtypes: float64(15), int64(11), object(10)\n",
      "memory usage: 843.9+ KB\n"
     ]
    }
   ],
   "source": [
    "plays.info()"
   ]
  },
  {
   "cell_type": "code",
   "execution_count": 57,
   "metadata": {},
   "outputs": [
    {
     "data": {
      "text/plain": [
       "0.0    2740\n",
       "1.0     162\n",
       "Name: punt_attempt, dtype: int64"
      ]
     },
     "execution_count": 57,
     "metadata": {},
     "output_type": "execute_result"
    }
   ],
   "source": [
    "plays['punt_attempt'].value_counts()"
   ]
  },
  {
   "cell_type": "code",
   "execution_count": 58,
   "metadata": {},
   "outputs": [
    {
     "data": {
      "text/html": [
       "<div>\n",
       "<style scoped>\n",
       "    .dataframe tbody tr th:only-of-type {\n",
       "        vertical-align: middle;\n",
       "    }\n",
       "\n",
       "    .dataframe tbody tr th {\n",
       "        vertical-align: top;\n",
       "    }\n",
       "\n",
       "    .dataframe thead th {\n",
       "        text-align: right;\n",
       "    }\n",
       "</style>\n",
       "<table border=\"1\" class=\"dataframe\">\n",
       "  <thead>\n",
       "    <tr style=\"text-align: right;\">\n",
       "      <th></th>\n",
       "      <th>game_id</th>\n",
       "      <th>drive</th>\n",
       "      <th>down</th>\n",
       "    </tr>\n",
       "  </thead>\n",
       "  <tbody>\n",
       "    <tr>\n",
       "      <td>0</td>\n",
       "      <td>2009091000</td>\n",
       "      <td>1</td>\n",
       "      <td>NaN</td>\n",
       "    </tr>\n",
       "    <tr>\n",
       "      <td>1</td>\n",
       "      <td>2009091000</td>\n",
       "      <td>1</td>\n",
       "      <td>1.0</td>\n",
       "    </tr>\n",
       "    <tr>\n",
       "      <td>2</td>\n",
       "      <td>2009091000</td>\n",
       "      <td>1</td>\n",
       "      <td>2.0</td>\n",
       "    </tr>\n",
       "    <tr>\n",
       "      <td>3</td>\n",
       "      <td>2009091000</td>\n",
       "      <td>1</td>\n",
       "      <td>3.0</td>\n",
       "    </tr>\n",
       "    <tr>\n",
       "      <td>4</td>\n",
       "      <td>2009091000</td>\n",
       "      <td>1</td>\n",
       "      <td>4.0</td>\n",
       "    </tr>\n",
       "    <tr>\n",
       "      <td>5</td>\n",
       "      <td>2009091000</td>\n",
       "      <td>2</td>\n",
       "      <td>1.0</td>\n",
       "    </tr>\n",
       "    <tr>\n",
       "      <td>6</td>\n",
       "      <td>2009091000</td>\n",
       "      <td>2</td>\n",
       "      <td>2.0</td>\n",
       "    </tr>\n",
       "    <tr>\n",
       "      <td>7</td>\n",
       "      <td>2009091000</td>\n",
       "      <td>2</td>\n",
       "      <td>3.0</td>\n",
       "    </tr>\n",
       "    <tr>\n",
       "      <td>8</td>\n",
       "      <td>2009091000</td>\n",
       "      <td>2</td>\n",
       "      <td>4.0</td>\n",
       "    </tr>\n",
       "    <tr>\n",
       "      <td>9</td>\n",
       "      <td>2009091000</td>\n",
       "      <td>3</td>\n",
       "      <td>1.0</td>\n",
       "    </tr>\n",
       "    <tr>\n",
       "      <td>10</td>\n",
       "      <td>2009091000</td>\n",
       "      <td>3</td>\n",
       "      <td>2.0</td>\n",
       "    </tr>\n",
       "    <tr>\n",
       "      <td>11</td>\n",
       "      <td>2009091000</td>\n",
       "      <td>3</td>\n",
       "      <td>1.0</td>\n",
       "    </tr>\n",
       "    <tr>\n",
       "      <td>12</td>\n",
       "      <td>2009091000</td>\n",
       "      <td>3</td>\n",
       "      <td>2.0</td>\n",
       "    </tr>\n",
       "    <tr>\n",
       "      <td>13</td>\n",
       "      <td>2009091000</td>\n",
       "      <td>3</td>\n",
       "      <td>3.0</td>\n",
       "    </tr>\n",
       "    <tr>\n",
       "      <td>14</td>\n",
       "      <td>2009091000</td>\n",
       "      <td>3</td>\n",
       "      <td>4.0</td>\n",
       "    </tr>\n",
       "    <tr>\n",
       "      <td>15</td>\n",
       "      <td>2009091000</td>\n",
       "      <td>4</td>\n",
       "      <td>1.0</td>\n",
       "    </tr>\n",
       "    <tr>\n",
       "      <td>16</td>\n",
       "      <td>2009091000</td>\n",
       "      <td>4</td>\n",
       "      <td>1.0</td>\n",
       "    </tr>\n",
       "    <tr>\n",
       "      <td>17</td>\n",
       "      <td>2009091000</td>\n",
       "      <td>4</td>\n",
       "      <td>1.0</td>\n",
       "    </tr>\n",
       "    <tr>\n",
       "      <td>18</td>\n",
       "      <td>2009091000</td>\n",
       "      <td>4</td>\n",
       "      <td>2.0</td>\n",
       "    </tr>\n",
       "    <tr>\n",
       "      <td>19</td>\n",
       "      <td>2009091000</td>\n",
       "      <td>4</td>\n",
       "      <td>3.0</td>\n",
       "    </tr>\n",
       "  </tbody>\n",
       "</table>\n",
       "</div>"
      ],
      "text/plain": [
       "       game_id  drive  down\n",
       "0   2009091000      1   NaN\n",
       "1   2009091000      1   1.0\n",
       "2   2009091000      1   2.0\n",
       "3   2009091000      1   3.0\n",
       "4   2009091000      1   4.0\n",
       "5   2009091000      2   1.0\n",
       "6   2009091000      2   2.0\n",
       "7   2009091000      2   3.0\n",
       "8   2009091000      2   4.0\n",
       "9   2009091000      3   1.0\n",
       "10  2009091000      3   2.0\n",
       "11  2009091000      3   1.0\n",
       "12  2009091000      3   2.0\n",
       "13  2009091000      3   3.0\n",
       "14  2009091000      3   4.0\n",
       "15  2009091000      4   1.0\n",
       "16  2009091000      4   1.0\n",
       "17  2009091000      4   1.0\n",
       "18  2009091000      4   2.0\n",
       "19  2009091000      4   3.0"
      ]
     },
     "execution_count": 58,
     "metadata": {},
     "output_type": "execute_result"
    }
   ],
   "source": [
    "plays[['game_id', 'drive', 'down']].head(20)"
   ]
  },
  {
   "cell_type": "code",
   "execution_count": 23,
   "metadata": {},
   "outputs": [],
   "source": [
    "with open('cols.txt', 'w') as f:\n",
    "    f.write(str(cols))"
   ]
  },
  {
   "cell_type": "code",
   "execution_count": null,
   "metadata": {},
   "outputs": [],
   "source": []
  },
  {
   "cell_type": "code",
   "execution_count": 15,
   "metadata": {},
   "outputs": [
    {
     "name": "stdout",
     "output_type": "stream",
     "text": [
      "defensive_extra_point_conv\n",
      "0    0.0\n",
      "1    0.0\n",
      "2    0.0\n",
      "3    0.0\n",
      "4    0.0\n",
      "Name: defensive_extra_point_conv, dtype: float64\n",
      "Keep? (y/n): n\n"
     ]
    }
   ],
   "source": [
    "cols = []\n",
    "for c in plays.columns:\n",
    "    print(c)\n",
    "    print(plays[c][:5])\n",
    "    answer = input('Keep? (y/n): ')\n",
    "    if answer == 'y':\n",
    "        cols.append(c)\n",
    "    clear_output(wait = True)"
   ]
  }
 ],
 "metadata": {
  "kernelspec": {
   "display_name": "Python 3",
   "language": "python",
   "name": "python3"
  },
  "language_info": {
   "codemirror_mode": {
    "name": "ipython",
    "version": 3
   },
   "file_extension": ".py",
   "mimetype": "text/x-python",
   "name": "python",
   "nbconvert_exporter": "python",
   "pygments_lexer": "ipython3",
   "version": "3.7.4"
  }
 },
 "nbformat": 4,
 "nbformat_minor": 2
}
